{
 "cells": [
  {
   "cell_type": "markdown",
   "metadata": {},
   "source": [
    "# QTM 385\n",
    "\n",
    "***\n",
    "\n",
    "## Homework 4\n",
    "\n",
    "Student: Katherine Wang [2346707]"
   ]
  },
  {
   "cell_type": "markdown",
   "metadata": {},
   "source": [
    "In this homework, we will create an object called Student, that is useful for a professor to store information about a student."
   ]
  },
  {
   "cell_type": "markdown",
   "metadata": {},
   "source": [
    "\n",
    "***\n",
    "\n",
    "### Question 1\n",
    "\n",
    "Create a class Student, that has:\n",
    "\n",
    "0. Id number (5-digits integer, starting with 1)\n",
    "1. First Name (str)\n",
    "2. Last Name (str)\n",
    "3. Grades (list of floats)\n",
    "4. Credits (list of integers)\n",
    "5. Major (str)\n",
    "\n",
    "Provide a constructor for your class and create one fictitious student."
   ]
  },
  {
   "cell_type": "code",
   "execution_count": 1,
   "metadata": {},
   "outputs": [],
   "source": [
    "class Student:\n",
    "    # My constructor for the student class\n",
    "    def __init__(self, idnum, fnam, lnam, grade, credit, major):\n",
    "        self.id_number = idnum\n",
    "        self.first_name = fnam\n",
    "        self.last_name = lnam\n",
    "        self.grade = grade\n",
    "        self.credit = credit\n",
    "        self.major = major"
   ]
  },
  {
   "cell_type": "code",
   "execution_count": 2,
   "metadata": {},
   "outputs": [],
   "source": [
    "# my fictitious student\n",
    "stu1 = Student(13568, \"Max\", \"Zhao\", [95.2, 87.9, 97.0], [4, 4, 3], \"Physics\")"
   ]
  },
  {
   "cell_type": "markdown",
   "metadata": {},
   "source": [
    "\n",
    "***\n",
    "\n",
    "### Question 2\n",
    "\n",
    "Create a method to nicely display the student when we type `print`. It should display, for example:\n",
    "\n",
    "```\n",
    "Student:\n",
    "    Id: 12345\n",
    "    Name: Mig, Umberto\n",
    "    Major: QSS\n",
    "```\n",
    "\n",
    "Create a method that, when a variable storing a student is typed in the console, displays:\n",
    "\n",
    "```\n",
    "Student(Mig, Umberto; 12345)\n",
    "```\n",
    "\n",
    "Provide some testing with a fictitious result of your choice."
   ]
  },
  {
   "cell_type": "code",
   "execution_count": 3,
   "metadata": {},
   "outputs": [],
   "source": [
    "class Student:\n",
    "    # My constructor for the student class\n",
    "    def __init__(self, idnum, fnam, lnam, grade, credit, major):\n",
    "        self.id_number = idnum\n",
    "        self.first_name = fnam\n",
    "        self.last_name = lnam\n",
    "        self.grade = grade\n",
    "        self.credit = credit\n",
    "        self.major = major\n",
    "    \n",
    "    def __str__(self):\n",
    "        st_info = \"\"\"\n",
    "        Student:\n",
    "            Id = {idnum}\n",
    "            Name = {fnam} , {lnam}\n",
    "            Major = {major1}\n",
    "            \"\"\".format(idnum = self.id_number, lnam = self.last_name, fnam = self.first_name, major1 = self.major)\n",
    "        return st_info\n",
    "    \n",
    "    def __repr__(self):\n",
    "        return \"Student({fnam} , {lnam}; {idnum})\".format(lnam = self.last_name, fnam = self.first_name, idnum = self.id_number)"
   ]
  },
  {
   "cell_type": "code",
   "execution_count": 4,
   "metadata": {},
   "outputs": [],
   "source": [
    "# student created under the new class\n",
    "stu2 = Student(13568, \"Max\", \"Zhao\", [95.2, 87.9, 97.0], [4, 4, 3], \"Physics\")"
   ]
  },
  {
   "cell_type": "code",
   "execution_count": 5,
   "metadata": {},
   "outputs": [
    {
     "name": "stdout",
     "output_type": "stream",
     "text": [
      "\n",
      "        Student:\n",
      "            Id = 13568\n",
      "            Name = Max , Zhao\n",
      "            Major = Physics\n",
      "            \n"
     ]
    },
    {
     "data": {
      "text/plain": [
       "Student(Max , Zhao; 13568)"
      ]
     },
     "execution_count": 5,
     "metadata": {},
     "output_type": "execute_result"
    }
   ],
   "source": [
    "# test\n",
    "print(stu2)\n",
    "stu2"
   ]
  },
  {
   "cell_type": "markdown",
   "metadata": {},
   "source": [
    "\n",
    "***\n",
    "\n",
    "### Question 3\n",
    "\n",
    "Implement class methods for:\n",
    "\n",
    "1. Check if the id number is valid (remember: 5 digits, starting with number one)\n",
    "2. Check if the grades list has the same length as the credits list. The idea is that every grade corresponds to a course that gave the student a certain amount of credits.\n",
    "3. Append grade and credit: given a grade, and credits attached to the grade, append both to each respective place.\n",
    "\n",
    "Test your function with a toy student of your choice."
   ]
  },
  {
   "cell_type": "code",
   "execution_count": 6,
   "metadata": {},
   "outputs": [],
   "source": [
    "class Student:\n",
    "    # My constructor for the student class\n",
    "    def __init__(self, idnum, fnam, lnam, grade, credit, major):\n",
    "        self.id_number = idnum\n",
    "        self.first_name = fnam\n",
    "        self.last_name = lnam\n",
    "        self.grade = grade\n",
    "        self.credit = credit\n",
    "        self.major = major\n",
    "    \n",
    "    def __str__(self):\n",
    "        st_info = \"\"\"\n",
    "        Student:\n",
    "            Id = {idnum}\n",
    "            Name = {nam}\n",
    "            Major = {major1}\n",
    "            \"\"\".format(idnum = self.id_number, nam = self.last_name + ', ' + self.first_name, major1 = self.major)\n",
    "        return st_info\n",
    "    \n",
    "    def __repr__(self):\n",
    "        return \"Student({fnam} , {lnam}; {idnum})\".format(lnam = self.last_name, fnam = self.first_name, idnum = self.id_number)\n",
    "    \n",
    "    def check_id(self):\n",
    "        if len(str(self.id_number)) == 5 and str(self.id_number)[0] == '1': print(\"valid ID\")\n",
    "        else: print(\"ERROR! invalid ID\")\n",
    "\n",
    "    def check_grade(self):\n",
    "        if len(self.grade) == len(self.credit): print(\"grades list has the same length as the credits list\")\n",
    "        else: print(\"ERROR! unmatched grades and credits\")\n",
    "    \n",
    "    def add_grade(self, gr, cr):\n",
    "        self.grade.append(gr)\n",
    "        self.credit.append(cr)"
   ]
  },
  {
   "cell_type": "code",
   "execution_count": 7,
   "metadata": {},
   "outputs": [],
   "source": [
    "stu_correct = Student(13568, \"Max\", \"Zhao\", [95.2, 87.9, 97.0], [4, 4, 3], \"Physics\")"
   ]
  },
  {
   "cell_type": "code",
   "execution_count": 8,
   "metadata": {},
   "outputs": [],
   "source": [
    "stu_error = Student(43518, \"Xam\", \"Haoz\", [95.2, 87.9, 97.0], [4, 4, 3, 3], \"QTM\")"
   ]
  },
  {
   "cell_type": "code",
   "execution_count": 9,
   "metadata": {},
   "outputs": [
    {
     "name": "stdout",
     "output_type": "stream",
     "text": [
      "If a student has correct information:\n",
      "valid ID\n",
      "grades list has the same length as the credits list\n",
      "-------------------------------------\n",
      "If a student has information that has error:\n",
      "ERROR! invalid ID\n",
      "ERROR! unmatched grades and credits\n"
     ]
    }
   ],
   "source": [
    "# test method\n",
    "print(\"If a student has correct information:\")\n",
    "stu_correct.check_id()\n",
    "stu_correct.check_grade()\n",
    "print(\"-------------------------------------\")\n",
    "print(\"If a student has information that has error:\")\n",
    "stu_error.check_id()\n",
    "stu_error.check_grade()"
   ]
  },
  {
   "cell_type": "code",
   "execution_count": 10,
   "metadata": {},
   "outputs": [
    {
     "name": "stdout",
     "output_type": "stream",
     "text": [
      "Student's original grades:\n",
      "[95.2, 87.9, 97.0]\n",
      "[4, 4, 3]\n",
      "-------------------------------------\n",
      "After appending the new grade:\n",
      "[95.2, 87.9, 97.0, 92.7]\n",
      "[4, 4, 3, 4]\n"
     ]
    }
   ],
   "source": [
    "print(\"Student's original grades:\")\n",
    "print(stu_correct.grade)\n",
    "print(stu_correct.credit)\n",
    "\n",
    "# append grade \n",
    "stu_correct.add_grade(92.7, 4)\n",
    "print(\"-------------------------------------\")\n",
    "print(\"After appending the new grade:\")\n",
    "print(stu_correct.grade)\n",
    "print(stu_correct.credit)"
   ]
  },
  {
   "cell_type": "markdown",
   "metadata": {},
   "source": [
    "\n",
    "***\n",
    "\n",
    "### Question 4\n",
    "\n",
    "Create a module in the class Student that computes the unweighted average of the student's grades."
   ]
  },
  {
   "cell_type": "code",
   "execution_count": 11,
   "metadata": {},
   "outputs": [],
   "source": [
    "class Student:\n",
    "    # My constructor for the student class\n",
    "    def __init__(self, idnum, fnam, lnam, grade, credit, major):\n",
    "        self.id_number = idnum\n",
    "        self.first_name = fnam\n",
    "        self.last_name = lnam\n",
    "        self.grade = grade\n",
    "        self.credit = credit\n",
    "        self.major = major\n",
    "    \n",
    "    def __str__(self):\n",
    "        st_info = \"\"\"\n",
    "        Student:\n",
    "            Id = {idnum}\n",
    "            Name = {nam}\n",
    "            Major = {major1}\n",
    "            \"\"\".format(idnum = self.id_number, nam = self.last_name + ', ' + self.first_name, major1 = self.major)\n",
    "        return st_info\n",
    "    \n",
    "    def __repr__(self):\n",
    "        return \"Student({fnam} , {lnam}; {idnum})\".format(lnam = self.last_name, fnam = self.first_name, idnum = self.id_number)\n",
    "    \n",
    "    def check_id(self):\n",
    "        if len(str(self.id_number)) == 5 and str(self.id_number)[0] == '1': print(\"valid ID\")\n",
    "        else: print(\"ERROR! invalid ID\")\n",
    "\n",
    "    def check_grade(self):\n",
    "        if len(self.grade) == len(self.credit): print(\"grades list has the same length as the credits list\")\n",
    "        else: print(\"ERROR! unmatched grades and credits\")\n",
    "    \n",
    "    def add_grade(self, gr, cr):\n",
    "        self.grade.append(gr)\n",
    "        self.credit.append(cr)\n",
    "        \n",
    "    def unweighted_avgrad(self):\n",
    "        avg = 0\n",
    "        for i in self.grade:\n",
    "            avg += i\n",
    "        return avg/len(self.grade)"
   ]
  },
  {
   "cell_type": "code",
   "execution_count": 12,
   "metadata": {},
   "outputs": [
    {
     "name": "stdout",
     "output_type": "stream",
     "text": [
      "[95.2, 87.9, 97.0]\n",
      "93.36666666666667\n"
     ]
    }
   ],
   "source": [
    "# favorate student Max created\n",
    "stu3 = Student(13568, \"Max\", \"Zhao\", [95.2, 87.9, 97.0], [4, 4, 3], \"Physics\")\n",
    "print(stu3.grade)\n",
    "print(stu3.unweighted_avgrad())"
   ]
  },
  {
   "cell_type": "code",
   "execution_count": 13,
   "metadata": {},
   "outputs": [
    {
     "name": "stdout",
     "output_type": "stream",
     "text": [
      "[95.2, 87.9, 97.0, 90.0]\n",
      "92.525\n"
     ]
    }
   ],
   "source": [
    "# add new grades, and then calculate it\n",
    "stu3.add_grade(90.0, 4)\n",
    "print(stu3.grade)\n",
    "print(stu3.unweighted_avgrad())"
   ]
  },
  {
   "cell_type": "markdown",
   "metadata": {},
   "source": [
    "\n",
    "***\n",
    "\n",
    "### Question 5\n",
    "\n",
    "Create a module in the class Student that computes the weighted average of the student's grades, weighted by the credits."
   ]
  },
  {
   "cell_type": "code",
   "execution_count": 14,
   "metadata": {},
   "outputs": [],
   "source": [
    "class Student:\n",
    "    # My constructor for the student class\n",
    "    def __init__(self, idnum, fnam, lnam, grade, credit, major):\n",
    "        self.id_number = idnum\n",
    "        self.first_name = fnam\n",
    "        self.last_name = lnam\n",
    "        self.grade = grade\n",
    "        self.credit = credit\n",
    "        self.major = major\n",
    "    \n",
    "    def __str__(self):\n",
    "        st_info = \"\"\"\n",
    "        Student:\n",
    "            Id = {idnum}\n",
    "            Name = {nam}\n",
    "            Major = {major1}\n",
    "            \"\"\".format(idnum = self.id_number, nam = self.last_name + ', ' + self.first_name, major1 = self.major)\n",
    "        return st_info\n",
    "    \n",
    "    def __repr__(self):\n",
    "        return \"Student({fnam} , {lnam}; {idnum})\".format(lnam = self.last_name, fnam = self.first_name, idnum = self.id_number)\n",
    "    \n",
    "    def check_id(self):\n",
    "        if len(str(self.id_number)) == 5 and str(self.id_number)[0] == '1': print(\"valid ID\")\n",
    "        else: print(\"ERROR! invalid ID\")\n",
    "\n",
    "    def check_grade(self):\n",
    "        if len(self.grade) == len(self.credit): print(\"grades list has the same length as the credits list\")\n",
    "        else: print(\"ERROR! unmatched grades and credits\")\n",
    "    \n",
    "    def add_grade(self, gr, cr):\n",
    "        self.grade.append(gr)\n",
    "        self.credit.append(cr)\n",
    "        \n",
    "    def unweighted_avgrad(self):\n",
    "        avg = 0\n",
    "        for i in self.grade:\n",
    "            avg += i\n",
    "        return avg/len(self.grade)\n",
    "    \n",
    "    def weighted_avgrad(self):\n",
    "        if len(self.grade) == len(self.credit):\n",
    "            avg = 0\n",
    "            cred = 0\n",
    "            for i in range(len(self.grade)):\n",
    "                avg += self.grade[i] * self.credit[i]\n",
    "                cred += self.credit[i]\n",
    "            return avg/cred\n",
    "        else: print(\"ERROR! unmatched grades and credits\")"
   ]
  },
  {
   "cell_type": "code",
   "execution_count": 15,
   "metadata": {},
   "outputs": [
    {
     "name": "stdout",
     "output_type": "stream",
     "text": [
      "[95.2, 87.9, 97.0]\n",
      "93.03636363636365\n"
     ]
    }
   ],
   "source": [
    "# favorate student created again\n",
    "stu4 = Student(13568, \"Max\", \"Zhao\", [95.2, 87.9, 97.0], [4, 4, 3], \"Physics\")\n",
    "print(stu4.grade)\n",
    "print(stu4.weighted_avgrad())"
   ]
  },
  {
   "cell_type": "markdown",
   "metadata": {},
   "source": [
    "**That's all, folks!**"
   ]
  }
 ],
 "metadata": {
  "kernelspec": {
   "display_name": "Python 3",
   "language": "python",
   "name": "python3"
  },
  "language_info": {
   "codemirror_mode": {
    "name": "ipython",
    "version": 3
   },
   "file_extension": ".py",
   "mimetype": "text/x-python",
   "name": "python",
   "nbconvert_exporter": "python",
   "pygments_lexer": "ipython3",
   "version": "3.8.3"
  }
 },
 "nbformat": 4,
 "nbformat_minor": 4
}
